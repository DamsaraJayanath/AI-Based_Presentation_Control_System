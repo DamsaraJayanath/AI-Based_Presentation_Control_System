{
 "cells": [
  {
   "cell_type": "code",
   "execution_count": 1,
   "id": "232a23ba-8c44-48df-9d09-2426cabbff78",
   "metadata": {},
   "outputs": [],
   "source": [
    "import os\n",
    "import cv2\n",
    "import numpy as np\n",
    "import mediapipe as mp\n",
    "from sklearn.ensemble import RandomForestClassifier\n",
    "from sklearn.model_selection import train_test_split\n",
    "from sklearn.metrics import accuracy_score, classification_report\n",
    "import joblib"
   ]
  },
  {
   "cell_type": "code",
   "execution_count": 2,
   "id": "278ca8e9-69d0-4508-9d6a-1bbabb551b79",
   "metadata": {},
   "outputs": [],
   "source": [
    "# Initialize MediaPipe Hands\n",
    "mp_hands = mp.solutions.hands\n",
    "hands = mp_hands.Hands(static_image_mode=True, max_num_hands=1, min_detection_confidence=0.5)\n",
    "\n",
    "# Prepare training data\n",
    "X = []\n",
    "y = []\n",
    "data_dir = \"dataset\"  # Folder containing 'next', 'previous', and 'none' subfolders\n",
    "skipped_images = 0"
   ]
  },
  {
   "cell_type": "code",
   "execution_count": 3,
   "id": "1c3a43a4-1364-4339-a6ec-e021e442f4f6",
   "metadata": {},
   "outputs": [
    {
     "name": "stdout",
     "output_type": "stream",
     "text": [
      "Extracting landmarks from gesture images...\n",
      "No hand detected in dataset\\next\\WIN_20250506_15_59_56_Pro.jpg, skipping...\n",
      "No hand detected in dataset\\next\\WIN_20250506_16_00_01_Pro (2).jpg, skipping...\n",
      "No hand detected in dataset\\next\\WIN_20250506_16_00_14_Pro.jpg, skipping...\n",
      "No hand detected in dataset\\next\\WIN_20250506_16_00_20_Pro (3).jpg, skipping...\n",
      "No hand detected in dataset\\none\\WIN_20250507_09_11_10_Pro (2).jpg, skipping...\n",
      "No hand detected in dataset\\none\\WIN_20250507_09_11_12_Pro (2).jpg, skipping...\n",
      "No hand detected in dataset\\none\\WIN_20250507_09_11_55_Pro (2).jpg, skipping...\n",
      "No hand detected in dataset\\none\\WIN_20250507_09_11_55_Pro (3).jpg, skipping...\n",
      "No hand detected in dataset\\none\\WIN_20250507_09_11_55_Pro.jpg, skipping...\n",
      "No hand detected in dataset\\none\\WIN_20250507_09_12_00_Pro.jpg, skipping...\n",
      "No hand detected in dataset\\none\\WIN_20250507_09_12_04_Pro (2).jpg, skipping...\n",
      "No hand detected in dataset\\none\\WIN_20250507_09_12_04_Pro.jpg, skipping...\n",
      "No hand detected in dataset\\none\\WIN_20250507_09_12_06_Pro (4).jpg, skipping...\n",
      "No hand detected in dataset\\none\\WIN_20250507_09_12_07_Pro.jpg, skipping...\n"
     ]
    }
   ],
   "source": [
    "print(\"Extracting landmarks from gesture images...\")\n",
    "for label in os.listdir(data_dir):\n",
    "    label_path = os.path.join(data_dir, label)\n",
    "    if os.path.isdir(label_path):\n",
    "        for img_file in os.listdir(label_path):\n",
    "            img_path = os.path.join(label_path, img_file)\n",
    "            image = cv2.imread(img_path)\n",
    "            if image is None:\n",
    "                print(f\"Failed to load image: {img_path}, skipping...\")\n",
    "                skipped_images += 1\n",
    "                continue\n",
    "\n",
    "            image_rgb = cv2.cvtColor(image, cv2.COLOR_BGR2RGB)\n",
    "            results = hands.process(image_rgb)\n",
    "\n",
    "            if results.multi_hand_landmarks:\n",
    "                landmarks = []\n",
    "                for lm in results.multi_hand_landmarks[0].landmark:\n",
    "                    landmarks.extend([lm.x, lm.y])  # Use x and y only\n",
    "                X.append(landmarks)\n",
    "                y.append(label)  # Label is folder name\n",
    "            else:\n",
    "                print(f\"No hand detected in {img_path}, skipping...\")\n",
    "                skipped_images += 1\n",
    "\n",
    "hands.close()"
   ]
  },
  {
   "cell_type": "code",
   "execution_count": 4,
   "id": "8ec590e5-0393-4775-904b-15dbd700d542",
   "metadata": {},
   "outputs": [
    {
     "name": "stdout",
     "output_type": "stream",
     "text": [
      "Processed 745 images successfully.\n",
      "Skipped 14 images due to loading or detection issues.\n",
      "Gesture classes: ['next' 'none' 'previous']\n",
      "Training set: 596 samples\n",
      "Testing set: 149 samples\n"
     ]
    }
   ],
   "source": [
    "# Convert to NumPy arrays\n",
    "X = np.array(X)\n",
    "y = np.array(y)\n",
    "\n",
    "# Check for empty data\n",
    "if len(X) == 0:\n",
    "    print(\"No hand landmarks detected. Check your images.\")\n",
    "    exit()\n",
    "\n",
    "print(f\"Processed {len(X)} images successfully.\")\n",
    "print(f\"Skipped {skipped_images} images due to loading or detection issues.\")\n",
    "print(\"Gesture classes:\", np.unique(y))\n",
    "\n",
    "# Split data into training and testing sets\n",
    "X_train, X_test, y_train, y_test = train_test_split(X, y, test_size=0.2, random_state=42)\n",
    "print(f\"Training set: {X_train.shape[0]} samples\")\n",
    "print(f\"Testing set: {X_test.shape[0]} samples\")\n"
   ]
  },
  {
   "cell_type": "code",
   "execution_count": 5,
   "id": "7abde5ed-ccc4-48ed-8181-60b541793470",
   "metadata": {},
   "outputs": [
    {
     "name": "stdout",
     "output_type": "stream",
     "text": [
      "Training Random Forest model...\n",
      "Model training completed.\n",
      "Accuracy on test set: 0.99\n",
      "Detailed results:\n",
      "              precision    recall  f1-score   support\n",
      "\n",
      "        next       1.00      1.00      1.00        36\n",
      "        none       0.98      0.98      0.98        44\n",
      "    previous       0.99      0.99      0.99        69\n",
      "\n",
      "    accuracy                           0.99       149\n",
      "   macro avg       0.99      0.99      0.99       149\n",
      "weighted avg       0.99      0.99      0.99       149\n",
      "\n",
      "Model saved as 'gesture_model.pkl'\n"
     ]
    }
   ],
   "source": [
    "# Train the Random Forest model\n",
    "try:\n",
    "    print(\"Training Random Forest model...\")\n",
    "    model = RandomForestClassifier(n_estimators=100, random_state=42)\n",
    "    model.fit(X_train, y_train)\n",
    "    print(\"Model training completed.\")\n",
    "\n",
    "    # Evaluate the model\n",
    "    y_pred = model.predict(X_test)\n",
    "    accuracy = accuracy_score(y_test, y_pred)\n",
    "    print(f\"Accuracy on test set: {accuracy:.2f}\")\n",
    "    print(\"Detailed results:\")\n",
    "    print(classification_report(y_test, y_pred))\n",
    "\n",
    "    # Save the trained model\n",
    "    joblib.dump(model, \"gesture_model.pkl\")\n",
    "    print(\"Model saved as 'gesture_model.pkl'\")\n",
    "\n",
    "except Exception as e:\n",
    "    print(f\"An error occurred during training or saving: {e}\")\n",
    "    exit()"
   ]
  },
  {
   "cell_type": "code",
   "execution_count": null,
   "id": "ce783e2d-26cf-4e00-86da-0074aca2bab4",
   "metadata": {},
   "outputs": [],
   "source": []
  }
 ],
 "metadata": {
  "kernelspec": {
   "display_name": "Python 3 (ipykernel)",
   "language": "python",
   "name": "python3"
  },
  "language_info": {
   "codemirror_mode": {
    "name": "ipython",
    "version": 3
   },
   "file_extension": ".py",
   "mimetype": "text/x-python",
   "name": "python",
   "nbconvert_exporter": "python",
   "pygments_lexer": "ipython3",
   "version": "3.12.4"
  }
 },
 "nbformat": 4,
 "nbformat_minor": 5
}
